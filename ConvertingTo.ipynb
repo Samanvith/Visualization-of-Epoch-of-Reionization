{
 "cells": [
  {
   "cell_type": "markdown",
   "metadata": {},
   "source": [
    "## GitHub\n"
   ]
  },
  {
   "cell_type": "markdown",
   "metadata": {},
   "source": [
    "## FOR DT ( Brightness temp) FILES"
   ]
  },
  {
   "cell_type": "code",
   "execution_count": null,
   "metadata": {},
   "outputs": [],
   "source": [
    "import numpy as np \n",
    "import csv\n",
    "import matplotlib.pyplot as plt\n",
    "import sys\n",
    "#np.set_printoptions(threshold=sys.maxsize)\n",
    "np.set_printoptions(threshold=np.inf)\n"
   ]
  },
  {
   "cell_type": "code",
   "execution_count": null,
   "metadata": {},
   "outputs": [],
   "source": [
    "filename = r'E:\\Python Scripts\\500Mpc_dT_files\\500_fidu_pv\\dT_50part_los0_7.221.cbin'\n",
    "f = open(filename)\n",
    "temp_mesh = np.fromfile(f,count=3,dtype='int32')\n",
    "N1,N2,N3 = temp_mesh\n",
    "data_num =1\n",
    "print ('No of grids in the desnity file')\n",
    "print (N1)\n",
    "print (N2)\n",
    "print (N3)\n",
    "\n",
    "datatype = dtype=(np.float32)\n",
    "data = np.fromfile(f, dtype=datatype,count=N1*N2*N3*data_num)\n",
    "f.close()\n",
    "data = data.reshape((N1,N2,N3), order='C')\n",
    "print(\"The shape of  data  is\", np.shape(data))\n",
    "\n",
    "print(\"The value of data of \",data)\n",
    "print(\"End\")\n",
    "    "
   ]
  },
  {
   "cell_type": "markdown",
   "metadata": {},
   "source": [
    "## Converstion of 3D gridded data into a VTK file ( to be read in ParaView)"
   ]
  },
  {
   "cell_type": "code",
   "execution_count": null,
   "metadata": {},
   "outputs": [],
   "source": [
    "import numpy as np\n",
    "from tvtk.api import tvtk, write_data\n",
    "\n",
    "\n",
    "\n",
    "grid = tvtk.ImageData(spacing=(393.7, 393.7, 393.7), origin=(0.0, 0.0, 0.0), \n",
    "                      dimensions=data.shape)\n",
    "grid.point_data.scalars = data.ravel(order='F')\n",
    "grid.point_data.scalars.name = 'HI density'\n",
    "\n",
    "# Writes legacy \".vtk\" format if filename ends with \"vtk\", otherwise\n",
    "# this will write data using the newer xml-based format.\n",
    "write_data(grid, r'E:\\Python Scripts\\500Mpc_dT_files\\500_fidu_pv\\HI_VTK\\HI030.vtk')\n",
    "#print(data)"
   ]
  },
  {
   "cell_type": "markdown",
   "metadata": {},
   "source": [
    "## FOR DENISTY_C ( Dark matter density) FILES\n"
   ]
  },
  {
   "cell_type": "code",
   "execution_count": null,
   "metadata": {},
   "outputs": [],
   "source": [
    "import numpy as np \n",
    "import csv\n",
    "import matplotlib.pyplot as plt\n",
    "import sys\n",
    "\n",
    "\n"
   ]
  },
  {
   "cell_type": "code",
   "execution_count": null,
   "metadata": {},
   "outputs": [],
   "source": [
    "filename = r'E:\\Python_Scripts\\density_C\\7.221_den.cbin'\n",
    "f = open(filename)\n",
    "temp_mesh = np.fromfile(f,count=3,dtype='int32')\n",
    "N1,N2,N3 = temp_mesh\n",
    "data_num =1\n",
    "print ('No of grids in the desnity file')\n",
    "print (N1)\n",
    "print (N2)\n",
    "print (N3)\n",
    "\n",
    "datatype = dtype=(np.float32)\n",
    "data = np.fromfile(f, dtype=datatype,count=N1*N2*N3*data_num)\n",
    "f.close()\n",
    "\n",
    "data = data.reshape((N1,N2,N3), order='C')\n",
    "\n",
    "mean = np.mean(data)\n",
    "\n",
    "data = data/mean\n",
    "print(\"The mean of the data is \", mean)\n",
    "print(\"The shape of  data  is\", np.shape(data))\n",
    "\n",
    "print(\"The value of data is \",data)\n",
    "\n",
    "\n",
    "print(\"End\")\n",
    "  "
   ]
  },
  {
   "cell_type": "markdown",
   "metadata": {},
   "source": [
    "## Converstion of 3D gridded data into a VTK file ( to be read in ParaView)"
   ]
  },
  {
   "cell_type": "code",
   "execution_count": null,
   "metadata": {},
   "outputs": [],
   "source": [
    "import numpy as np\n",
    "from tvtk.api import tvtk, write_data\n",
    "\n",
    "#data = np.random.random((10,10,10))\n",
    "\n",
    "grid = tvtk.ImageData(spacing=(393.7, 393.7, 393.7), origin=(0.0, 0.0, 0.0), \n",
    "                      dimensions=data.shape)\n",
    "grid.point_data.scalars = data.ravel(order='F')\n",
    "grid.point_data.scalars.name = 'HI density'\n",
    "\n",
    "# Writes legacy \".vtk\" format if filename ends with \"vtk\", otherwise\n",
    "# this will write data using the newer xml-based format.\n",
    "write_data(grid, r'E:\\Python_Scripts\\density_C\\Density_VTK\\den030.vtk')\n",
    "#print(data)"
   ]
  },
  {
   "cell_type": "markdown",
   "metadata": {},
   "source": [
    "## Halo Desnity Files"
   ]
  },
  {
   "cell_type": "code",
   "execution_count": null,
   "metadata": {},
   "outputs": [],
   "source": [
    "filename = r\"E:\\Python_Scripts\\New_data\\500Mpc_hinv_Halo_density\\7.221-coarsest_sources.dat\"\n",
    "a =np.loadtxt(filename,skiprows=1,usecols=(0,1,2,3,))\n",
    "\n",
    "data = np.zeros(shape=(600,600,600))\n",
    "\n",
    "for i in range(len(a)):\n",
    "    \n",
    "    k = int(a[i][0]-1)\n",
    "    l = int(a[i][1]-1)\n",
    "    m = int(a[i][2]-1)\n",
    "    n =  a[i,3]\n",
    "    data[k,l,m] = n\n",
    "\n",
    "f = open(r'E:\\Python_Scripts\\New_data\\500Mpc_hinv_Halo_density\\halo_density\\Den_7221','wb')\n",
    "\n",
    "f.write(struct.pack('<i',600))\n",
    "f.write(struct.pack('<i',600))\n",
    "f.write(struct.pack('<i',600))\n",
    "for i in range(600):\n",
    "    for j in range(600):\n",
    "        for k in range(600):\n",
    "            f.write(struct.pack('<f',data[i,j,k]))\n",
    "f.close()\n",
    "print(\"******END****** Den_7221\")"
   ]
  },
  {
   "cell_type": "markdown",
   "metadata": {},
   "source": [
    "## Converstion of 3D gridded data into a VTK file ( to be read in ParaView)"
   ]
  },
  {
   "cell_type": "code",
   "execution_count": null,
   "metadata": {},
   "outputs": [],
   "source": [
    "import numpy as np\n",
    "from tvtk.api import tvtk, write_data\n",
    "\n",
    "#data = np.random.random((10,10,10))\n",
    "\n",
    "grid = tvtk.ImageData(spacing=(393.7, 393.7, 393.7), origin=(0.0, 0.0, 0.0), \n",
    "                      dimensions=data.shape)\n",
    "grid.point_data.scalars = data.ravel(order='F')\n",
    "grid.point_data.scalars.name = 'Density'\n",
    "\n",
    "# Writes legacy \".vtk\" format if filename ends with \"vtk\", otherwise\n",
    "# this will write data using the newer xml-based format.\n",
    "write_data(grid, r'E:\\HaloDen017.vtk')\n",
    "print(\"End Den_8064\")"
   ]
  }
 ],
 "metadata": {
  "kernelspec": {
   "display_name": "Python 3",
   "language": "python",
   "name": "python3"
  },
  "language_info": {
   "codemirror_mode": {
    "name": "ipython",
    "version": 3
   },
   "file_extension": ".py",
   "mimetype": "text/x-python",
   "name": "python",
   "nbconvert_exporter": "python",
   "pygments_lexer": "ipython3",
   "version": "3.7.3"
  }
 },
 "nbformat": 4,
 "nbformat_minor": 4
}
