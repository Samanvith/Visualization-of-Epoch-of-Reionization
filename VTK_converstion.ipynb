{
 "cells": [
  {
   "cell_type": "markdown",
   "metadata": {},
   "source": [
    "# Reading the HI file ( binary) and converting into a VTK file ( To be read in ParaView)"
   ]
  },
  {
   "cell_type": "markdown",
   "metadata": {},
   "source": [
    "## Imports"
   ]
  },
  {
   "cell_type": "code",
   "execution_count": 1,
   "metadata": {},
   "outputs": [],
   "source": [
    "import numpy as np \n",
    "import csv\n",
    "import matplotlib.pyplot as plt\n",
    "#from mayavi import mlab\n",
    "\n",
    "#from enthought.mayavi.modules.text import Text\n",
    "\n"
   ]
  },
  {
   "cell_type": "markdown",
   "metadata": {},
   "source": [
    "## Reading the HI file and creating a 3D gridded data"
   ]
  },
  {
   "cell_type": "code",
   "execution_count": 2,
   "metadata": {},
   "outputs": [
    {
     "name": "stdout",
     "output_type": "stream",
     "text": [
      "No of grids in the desnity file\n",
      "128\n",
      "128\n",
      "128\n",
      "The shape of  data  is (128, 128, 128)\n",
      "The value of data of  [[[6.37878125e+03 2.69077612e+03 6.53288452e+02 ... 1.38205977e+04\n",
      "   1.30181777e+04 9.96735449e+03]\n",
      "  [9.45619434e+03 1.27243535e+04 3.40779126e+03 ... 1.62817002e+04\n",
      "   1.09397432e+04 7.18861084e+03]\n",
      "  [2.03083359e+04 1.73954160e+04 8.74276758e+03 ... 1.54343184e+04\n",
      "   1.29483223e+04 1.01289668e+04]\n",
      "  ...\n",
      "  [1.68408447e+03 1.00765656e+02 0.00000000e+00 ... 1.11407725e+04\n",
      "   1.05722617e+04 6.49822754e+03]\n",
      "  [6.15399121e+03 5.57313843e+02 1.03659600e-04 ... 1.30529619e+04\n",
      "   1.37649082e+04 1.25190586e+04]\n",
      "  [8.33208789e+03 1.06301697e+03 1.48985218e-02 ... 1.27778330e+04\n",
      "   1.28364678e+04 1.20905391e+04]]\n",
      "\n",
      " [[6.88438379e+03 4.17162891e+03 9.39968628e+02 ... 1.24099131e+04\n",
      "   8.75737793e+03 8.06307959e+03]\n",
      "  [1.17818223e+04 1.57926777e+04 3.21995557e+03 ... 1.07639463e+04\n",
      "   8.38794531e+03 7.50671045e+03]\n",
      "  [2.04026758e+04 1.47814482e+04 9.19529688e+03 ... 1.44810459e+04\n",
      "   1.17118477e+04 1.02781621e+04]\n",
      "  ...\n",
      "  [2.74147705e+03 2.03271332e+02 0.00000000e+00 ... 9.98691699e+03\n",
      "   1.46514336e+04 9.43145801e+03]\n",
      "  [7.15205322e+03 2.54518143e+02 0.00000000e+00 ... 1.67913477e+04\n",
      "   1.47959785e+04 1.15504893e+04]\n",
      "  [7.83728564e+03 7.65754150e+02 1.83547115e+01 ... 1.64147793e+04\n",
      "   9.72172656e+03 9.86574609e+03]]\n",
      "\n",
      " [[9.99996777e+03 7.75815088e+03 1.92903528e+03 ... 1.32608125e+04\n",
      "   8.90911816e+03 7.77389746e+03]\n",
      "  [2.07636035e+04 2.08778320e+04 7.63712109e+03 ... 1.21283516e+04\n",
      "   9.66190625e+03 8.34097461e+03]\n",
      "  [2.32918457e+04 2.08477734e+04 1.41288174e+04 ... 1.65175391e+04\n",
      "   1.33434336e+04 1.67846562e+04]\n",
      "  ...\n",
      "  [5.16227832e+03 6.92988037e+02 4.29441872e+01 ... 1.60897793e+04\n",
      "   1.31045527e+04 8.44980566e+03]\n",
      "  [5.94134863e+03 7.31346191e+02 4.58160324e+01 ... 1.30516514e+04\n",
      "   8.16632373e+03 7.31571240e+03]\n",
      "  [6.12909668e+03 1.82481091e+03 1.14989342e+02 ... 9.00206055e+03\n",
      "   6.49326904e+03 7.49523047e+03]]\n",
      "\n",
      " ...\n",
      "\n",
      " [[1.85280347e+03 2.50664642e+02 4.67230916e-01 ... 9.96364941e+03\n",
      "   7.62706299e+03 6.64943701e+03]\n",
      "  [1.41151135e+03 3.57720764e+02 5.32185845e-03 ... 1.07612754e+04\n",
      "   8.21695996e+03 2.94673145e+03]\n",
      "  [1.44679468e+03 5.85560730e+02 3.85010290e+00 ... 9.14554492e+03\n",
      "   1.27046074e+04 4.23710352e+03]\n",
      "  ...\n",
      "  [5.61845166e+03 7.81063232e+02 6.00314625e-02 ... 1.27548564e+04\n",
      "   1.06619316e+04 8.14696631e+03]\n",
      "  [6.49561523e+03 1.23294434e+03 6.45707309e-01 ... 1.49958291e+04\n",
      "   1.08812178e+04 9.15468457e+03]\n",
      "  [4.49539111e+03 7.90142639e+02 2.11328053e+00 ... 1.63513828e+04\n",
      "   9.64980859e+03 8.95805469e+03]]\n",
      "\n",
      " [[5.86246240e+03 1.40003369e+03 9.06997910e+01 ... 9.75443066e+03\n",
      "   7.60604688e+03 1.02510117e+04]\n",
      "  [7.65791309e+03 3.95545117e+03 4.40654633e+02 ... 1.13965547e+04\n",
      "   9.07224316e+03 7.50281494e+03]\n",
      "  [9.62449414e+03 4.28755225e+03 3.97258911e+02 ... 1.10310322e+04\n",
      "   1.18005000e+04 7.23053076e+03]\n",
      "  ...\n",
      "  [2.31664575e+03 2.89455200e+02 4.63687569e-01 ... 1.14230850e+04\n",
      "   1.03855137e+04 7.24932568e+03]\n",
      "  [1.11449219e+04 2.22568164e+03 3.73952198e+00 ... 1.28859912e+04\n",
      "   9.53491699e+03 1.19240381e+04]\n",
      "  [1.01747021e+04 2.42066797e+03 5.94633341e+00 ... 1.10635732e+04\n",
      "   8.20192969e+03 1.07096260e+04]]\n",
      "\n",
      " [[6.04905615e+03 2.18579834e+03 3.96581116e+02 ... 8.42951367e+03\n",
      "   8.77397754e+03 1.01815186e+04]\n",
      "  [8.49970996e+03 7.44149512e+03 2.43343018e+03 ... 1.14580107e+04\n",
      "   1.13008916e+04 7.61008643e+03]\n",
      "  [1.38380244e+04 1.20465059e+04 3.58932153e+03 ... 1.31590605e+04\n",
      "   1.32190625e+04 9.45717383e+03]\n",
      "  ...\n",
      "  [2.35369897e+03 2.50790207e+02 1.53395623e-01 ... 1.07261924e+04\n",
      "   9.57267285e+03 9.03039746e+03]\n",
      "  [1.18105020e+04 2.06405591e+03 1.60054922e+00 ... 1.05888633e+04\n",
      "   9.37336328e+03 1.47872383e+04]\n",
      "  [7.47598633e+03 1.71558154e+03 2.67459750e+00 ... 8.00695850e+03\n",
      "   8.97439648e+03 1.13808379e+04]]]\n",
      "End\n"
     ]
    }
   ],
   "source": [
    "filename = 'E:\\Studies\\ParaView-5.7.0-Windows-Python3.7-msvc2015-64bit\\Data\\HImap_128_WDM\\HI_maprs_8.000'\n",
    "f = open(filename)\n",
    "temp_mesh = np.fromfile(f,count=3,dtype='int32')\n",
    "N1,N2,N3 = temp_mesh\n",
    "data_num =1\n",
    "print ('No of grids in the desnity file')\n",
    "print (N1)\n",
    "print (N2)\n",
    "print (N3)\n",
    "\n",
    "datatype = dtype=(np.float32)\n",
    "data = np.fromfile(f, dtype=datatype,count=N1*N2*N3*data_num)\n",
    "\n",
    "#N_1 = np.fromfile(f, dtype=datatype,count=N1*data_num)\n",
    "#print(\"the value of N1:\", N_1)\n",
    "#N_2 = np.fromfile(f, dtype=datatype,count=N2*data_num)\n",
    "#print(\"the value of N2:\", N_2)\n",
    "#N_3 = np.fromfile(f, dtype=datatype,count=N3*data_num)\n",
    "#print(\"the value of N2:\", N_3)\n",
    "f.close()\n",
    "\n",
    "#Mass = (1.0895e8)\n",
    "#print(Mass)\n",
    "#data = data * Mass\n",
    "\n",
    "#ppm = np.ones(56623104)\n",
    "data = data.reshape((N1,N2,N3), order='C')\n",
    "#a= np.ndarray.flatten(data[0])\n",
    "\n",
    "mk = (27.0) * ((0.049) * (0.678**2)/0.023) * ((0.15/(0.38*(0.678**2))) * (1+10/10))**0.5\n",
    "data = data * mk\n",
    "\n",
    "\n",
    "print(\"The shape of  data  is\", np.shape(data))\n",
    "\n",
    "print(\"The value of data of \",data)\n",
    "\n",
    "\n",
    "print(\"End\")\n",
    "    #x = data[0]\n",
    "    #y = data[1]\n",
    "    #z = data[2]\n",
    "    #data[0]\n",
    "   "
   ]
  },
  {
   "cell_type": "markdown",
   "metadata": {},
   "source": [
    "## Converstion of 3D gridded data into a VTK file ( to be read in ParaView)"
   ]
  },
  {
   "cell_type": "code",
   "execution_count": null,
   "metadata": {},
   "outputs": [],
   "source": [
    "import numpy as np\n",
    "from tvtk.api import tvtk, write_data\n",
    "\n",
    "#data = np.random.random((10,10,10))\n",
    "\n",
    "grid = tvtk.ImageData(spacing=(393.7, 393.7, 393.7), origin=(0.0, 0.0, 0.0), \n",
    "                      dimensions=data.shape)\n",
    "grid.point_data.scalars = data.ravel(order='F')\n",
    "grid.point_data.scalars.name = 'HI density'\n",
    "\n",
    "# Writes legacy \".vtk\" format if filename ends with \"vtk\", otherwise\n",
    "# this will write data using the newer xml-based format.\n",
    "write_data(grid, r'E:\\Python Scripts\\Test\\HI020.vtk')\n",
    "#print(data)"
   ]
  },
  {
   "cell_type": "markdown",
   "metadata": {},
   "source": [
    "## Testing codes"
   ]
  },
  {
   "cell_type": "code",
   "execution_count": null,
   "metadata": {},
   "outputs": [],
   "source": [
    "#plt.plot(data[383])"
   ]
  },
  {
   "cell_type": "code",
   "execution_count": null,
   "metadata": {},
   "outputs": [],
   "source": [
    "from vtk.util import numpy_support\n",
    "help(numpy_support.numpy_to_vtk)"
   ]
  },
  {
   "cell_type": "code",
   "execution_count": null,
   "metadata": {},
   "outputs": [],
   "source": [
    "import vtk\n",
    "#import SimpleITK\n",
    "from vtk.util.numpy_support import numpy_to_vtk"
   ]
  },
  {
   "cell_type": "code",
   "execution_count": null,
   "metadata": {},
   "outputs": [],
   "source": [
    "VTK_data = numpy_support.numpy_to_vtk(num_array=data.ravel(), deep=True, array_type=vtk.VTK_FLOAT)"
   ]
  },
  {
   "cell_type": "code",
   "execution_count": null,
   "metadata": {},
   "outputs": [],
   "source": [
    "VTK_data"
   ]
  },
  {
   "cell_type": "code",
   "execution_count": null,
   "metadata": {},
   "outputs": [],
   "source": []
  },
  {
   "cell_type": "code",
   "execution_count": null,
   "metadata": {},
   "outputs": [],
   "source": [
    "from pyevtk.hl import gridToVTK"
   ]
  },
  {
   "cell_type": "code",
   "execution_count": null,
   "metadata": {},
   "outputs": [],
   "source": [
    "gridToVTK(\"./haihai\", N_1, N_2, N_3)"
   ]
  },
  {
   "cell_type": "code",
   "execution_count": null,
   "metadata": {},
   "outputs": [],
   "source": [
    "reader = OpenDataFile(\"E:\\Studies\\ParaView-5.7.0-Windows-Python3.7-msvc2015-64bit\\Data\\HImap_128\\HI_maprs_10.000\")\n",
    "if reader:\n",
    "    print(\"Success\")\n",
    "else:\n",
    "    print(\"Failed\")\n"
   ]
  },
  {
   "cell_type": "code",
   "execution_count": null,
   "metadata": {},
   "outputs": [],
   "source": [
    "import subprocess\n"
   ]
  },
  {
   "cell_type": "code",
   "execution_count": null,
   "metadata": {},
   "outputs": [],
   "source": [
    "subprocess.call('E:\\\\Studies\\\\ParaView-5.7.0-Windows-Python3.7-msvc2015-64bit\\\\bin\\\\paraview.exe')"
   ]
  },
  {
   "cell_type": "code",
   "execution_count": null,
   "metadata": {},
   "outputs": [],
   "source": [
    "\n",
    "filename = 'E:\\Studies\\ParaView-5.7.0-Windows-Python3.7-msvc2015-64bit\\Data\\HImap_384\\HI_maprs_8.000'\n",
    "f = open(filename)\n",
    "temp_mesh = np.fromfile(f,count=3,dtype='int32')\n",
    "N1,N2,N3 = temp_mesh\n",
    "data_num =1\n",
    "print ('No of grids in the desnity file')\n",
    "print (N1)\n",
    "print (N2)\n",
    "print (N3)\n",
    "\n",
    "datatype = dtype=(np.float32)\n",
    "#data = np.fromfile(f, dtype=datatype,count=N1*N2*N3*data_num)\n",
    "\n",
    "N_1 = np.fromfile(f, dtype=datatype,count=N1*data_num)\n",
    "print(\"the value of N1:\", N_1)\n",
    "N_2 = np.fromfile(f, dtype=datatype,count=N2*data_num)\n",
    "print(\"the value of N2:\", N_2)\n",
    "N_3 = np.fromfile(f, dtype=datatype,count=N3*data_num)\n",
    "print(\"the value of N2:\", N_3)\n",
    "f.close()\n",
    "\n",
    "#Mass = (1.0895e8)\n",
    "#print(Mass)\n",
    "#data = data * Mass\n",
    "\n",
    "#ppm = np.ones(56623104)\n",
    "#data = data.reshape((N1,N2,N3), order='C')\n",
    "#a= np.ndarray.flatten(data[0])\n",
    "\n",
    "#print(\"the value of n1 is\",N_1)\n",
    "#print(\"The shape of data is\", np.shape(data))\n",
    "\n",
    "\n",
    "'''\n",
    "with open('person.csv', 'w') as csvFile:\n",
    "    writer = csv.writer(csvFile)\n",
    "    writer.write(data)\n",
    "csvFile.close()\n",
    "\n",
    "'''\n",
    "'''\n",
    "file = open('geek.txt','a') \n",
    "file.write(str(data))  \n",
    "file.close() \n",
    "'''\n",
    "'''\n",
    "f = open(\"E:\\Studies\\ParaView-5.7.0-Windows-Python3.7-msvc2015-64bit\\Data\\ file.txt\", 'wb')\n",
    "for i in range(384):\n",
    "\tf.write(\"%f\" % (data))\n",
    "f.close()\n",
    "'''\n",
    "\n",
    "'''\n",
    "\n",
    "np.savetxt('file_2', data, delimiter=\",\")\n",
    "'''\n",
    "\n",
    "\n",
    "'''\n",
    "# Write the array to disk\n",
    "with open('test.csv', 'w') as outfile:\n",
    "    # I'm writing a header here just for the sake of readability\n",
    "    # Any line starting with \"#\" will be ignored by numpy.loadtxt\n",
    "    outfile.write('# Array shape: {0}\\n'.format(data.shape))\n",
    "\n",
    "    # Iterating through a ndimensional array produces slices along\n",
    "    # the last axis. This is equivalent to data[i,:,:] in this case\n",
    "    for data_slice in data:\n",
    "\n",
    "        # The formatting string indicates that I'm writing out\n",
    "        # the values in left-justified columns 7 characters in width\n",
    "        # with 2 decimal places.  \n",
    "        np.savetxt(outfile, data_slice, fmt='%-7.2f')\n",
    "\n",
    "        # Writing out a break to indicate different slices...\n",
    "        outfile.write('# New slice\\n')\n",
    "\n",
    "'''\n",
    "\n",
    "print(\"End\")\n",
    "#x = data[0]\n",
    "#y = data[1]\n",
    "#z = data[2]\n",
    "#data[0]\n"
   ]
  },
  {
   "cell_type": "code",
   "execution_count": null,
   "metadata": {},
   "outputs": [],
   "source": [
    "from mpl_toolkits.mplot3d import Axes3D\n",
    "import matplotlib.pyplot as plt\n",
    "\n",
    "\n",
    "\n",
    "fig = plt.figure(figsize=(50,50))\n",
    "ax = fig.add_subplot(111, projection='3d')\n",
    "\n",
    "\n",
    "ax.set_xlabel('X Label')\n",
    "ax.set_ylabel('Y Label')\n",
    "ax.set_zlabel('Z Label')\n",
    "\n",
    "for i in range():\n",
    "    ax.scatter(N_1[i],N_2[i],N_3[i], c='b', marker='o')\n",
    "\n",
    "\n",
    "\n",
    "plt.show()"
   ]
  },
  {
   "cell_type": "code",
   "execution_count": null,
   "metadata": {},
   "outputs": [],
   "source": [
    "import numpy\n",
    "filename = 'halolist_000.dat'\n",
    "f = open(filename , \"rb\")\n",
    "temp_mesh = np.fromfile(f,count=1,dtype='int32')\n",
    "N1 = temp_mesh\n",
    "print(N1)\n",
    "data_num =1\n",
    "datatype = dtype=(np.float32)\n",
    "data_halo = np.fromfile(f, dtype=datatype,count=N1[0]+N1[0]+N1[0])\n",
    "print(\"The shapepf data is\",np.shape(data_halo))\n",
    "\n",
    "print(\"The value of data is\",data_halo)\n",
    "\n",
    "#data2 = np.fromfile(f, dtype=datatype,count=N1[0]*data_num)\n",
    "#print(\"The shapepf data is\",np.shape(data2))\n",
    "\n",
    "#print(\"The value of data is\",data2)\n",
    "\n",
    "#data3 = np.fromfile(f, dtype=datatype,count=N1[0]*data_num)\n",
    "#print(\"The shapepf data is\",np.shape(data3))\n",
    "\n",
    "#print(\"The value of data is\",data3)\n",
    "\n",
    "f.close()\n",
    "#data = data.reshape((N1[0],N1[0],N1[0]), order='C')\n",
    "\n",
    "#data = np.fromfile(f, dtype=datatype,count=N1[0])\n",
    "#f.close()\n",
    "#data = data.reshape((N1[0]), order='C')\n",
    "#print(\"The shape of the data is\",np.shape(data))\n",
    "#print(data)\n",
    "#data1 = data1.reshape((N1[0]), order='C')\n",
    "#print(\"The shape of the data is\",np.shape(data1))\n",
    "#print(data1)\n",
    "\n",
    "np.shape(data_halo)\n",
    "r_data_halo = numpy.reshape(data_halo, data_halo.shape)\n",
    "\n",
    "np.shape(r_data_halo)"
   ]
  },
  {
   "cell_type": "code",
   "execution_count": null,
   "metadata": {},
   "outputs": [],
   "source": [
    "import numpy as np\n",
    "from tvtk.api import tvtk, write_data\n",
    "\n",
    "#data = np.random.random((10,10,10))\n",
    "\n",
    "grid = tvtk.ImageData(spacing=(1, 1, 1), origin=(0.0, 0.0, 0.0), \n",
    "                      dimensions=r_data_halo.shape)\n",
    "grid.point_data.scalars = r_data_halo.ravel(order='F')\n",
    "grid.point_data.scalars.name = 'HI density'\n",
    "\n",
    "# Writes legacy \".vtk\" format if filename ends with \"vtk\", otherwise\n",
    "# this will write data using the newer xml-based format.\n",
    "write_data(grid, 'test_halo.vtk')\n",
    "#print(data)"
   ]
  },
  {
   "cell_type": "code",
   "execution_count": null,
   "metadata": {},
   "outputs": [],
   "source": [
    "737928**(1/3)"
   ]
  },
  {
   "cell_type": "markdown",
   "metadata": {},
   "source": [
    "## Halo file reading"
   ]
  },
  {
   "cell_type": "code",
   "execution_count": null,
   "metadata": {},
   "outputs": [],
   "source": [
    "import numpy as np"
   ]
  },
  {
   "cell_type": "code",
   "execution_count": null,
   "metadata": {},
   "outputs": [],
   "source": [
    "filename = r'E:\\Python_Scripts\\HI_in_mk_WDM\\halolist_006.dat'\n",
    "f = open(filename , \"rb\")\n",
    "temp_mesh = np.fromfile(f,count=1,dtype='int32')\n",
    "N1 = temp_mesh\n",
    "print(N1)\n",
    "data_num =1\n",
    "datatype = dtype=(np.float32)\n",
    "data1 = np.fromfile(f, dtype=datatype,count=N1[0]*data_num)\n",
    "print(\"The shapepf data1 is\",np.shape(data1))\n",
    "\n",
    "print(\"The value of data1 i.e X coordinate is\",data1)\n",
    "\n",
    "data2 = np.fromfile(f, dtype=datatype,count=N1[0]*data_num)\n",
    "print(\"The shapepf data2 is\",np.shape(data2))\n",
    "\n",
    "print(\"The value of data2 i.e Y coordinate is\",data2)\n",
    "\n",
    "data3 = np.fromfile(f, dtype=datatype,count=N1[0]*data_num)\n",
    "print(\"The shapepf data3 is\",np.shape(data3))\n",
    "print(\"The value of data3 i.e Z coordinate is\",data3)\n",
    "\n",
    "data4 = np.fromfile(f, dtype=datatype,count=N1[0]*data_num)\n",
    "#print(\"The shapepf data4 is\",np.shape(data4))\n",
    "#print(\"The value of data4 is\",data4)\n",
    "\n",
    "data5 = np.fromfile(f, dtype=datatype,count=N1[0]*data_num)\n",
    "data5 = np.log(data5)\n",
    "\n",
    "print(\"The shapepf data5 is\",np.shape(data5))\n",
    "print(\"The value of data5 i.e the mass is\",data5)\n",
    "\n",
    "f.close()\n",
    "\n",
    "\n"
   ]
  },
  {
   "cell_type": "code",
   "execution_count": null,
   "metadata": {},
   "outputs": [],
   "source": [
    "from itertools import zip_longest\n",
    "d = [data1, data2, data3, data5]\n",
    "export_data = zip_longest(*d, fillvalue = '')\n",
    "\n",
    "with open(r'C:\\Users\\Samanvith\\Documents\\Python Scripts\\HI_in_mk_WDM\\CoordinatelogMass_7.csv', 'w', encoding=\"ISO-8859-1\", newline='') as myfile:\n",
    "      wr = csv.writer(myfile)\n",
    "      wr.writerow((\"X\", \"Y\",\"Z\",\"Mass\"))\n",
    "      wr.writerows(export_data)\n",
    "myfile.close()"
   ]
  },
  {
   "cell_type": "code",
   "execution_count": null,
   "metadata": {},
   "outputs": [],
   "source": []
  },
  {
   "cell_type": "code",
   "execution_count": null,
   "metadata": {},
   "outputs": [],
   "source": [
    "[25.129936 , 29.250233 , 36.73706  , ..., 52.077976 ,\n",
    "         34.72803  , 25.560308 ],\n",
    "        [26.533136 , 23.703148 , 47.45153  , ..., 34.019028 ,\n",
    "         38.198456 , 28.651007 ],\n",
    "        [35.35091  , 26.497234 , 45.85392  , ..., 37.166153 ,\n",
    "         34.296154 , 28.202429 ]"
   ]
  },
  {
   "cell_type": "code",
   "execution_count": null,
   "metadata": {},
   "outputs": [],
   "source": [
    "[[ 8959.80957031, 29980.35546875, 34013.6875    ],\n",
    "       [49745.9921875 , 47978.29296875,  1170.59240723],\n",
    "       [25220.67382812, 20823.72070312, 30464.92578125],\n",
    "       ...,\n",
    "       [49146.07421875, 46617.4765625 , 11136.43847656],\n",
    "       [   63.03699112,  7380.53955078,  3776.81445312],\n",
    "       [49329.50390625, 39955.99609375, 22014.48828125]]"
   ]
  },
  {
   "cell_type": "code",
   "execution_count": null,
   "metadata": {},
   "outputs": [],
   "source": [
    "import numpy as np\n",
    "a = np.array([5,4])\n",
    "\n",
    "print(a.T)"
   ]
  },
  {
   "cell_type": "code",
   "execution_count": null,
   "metadata": {},
   "outputs": [],
   "source": [
    "import numpy as np\n",
    "import pandas as pd\n",
    "# create an example array\n",
    "a = np.arange(24).reshape([2,3,4])\n",
    "# convert it to stacked format using Pandas\n",
    "stacked = pd.Panel(a.swapaxes(1,2)).to_frame().stack().reset_index()\n",
    "stacked.columns = ['x', 'y', 'z', 'value']\n",
    "\n",
    "a"
   ]
  },
  {
   "cell_type": "markdown",
   "metadata": {},
   "source": [
    "## Reading Halo density\n"
   ]
  },
  {
   "cell_type": "code",
   "execution_count": null,
   "metadata": {},
   "outputs": [],
   "source": [
    "import numpy as np \n",
    "import csv\n",
    "import matplotlib.pyplot as plt\n",
    "#from mayavi import mlab\n",
    "\n",
    "#from enthought.mayavi.modules.text import Text\n"
   ]
  },
  {
   "cell_type": "code",
   "execution_count": null,
   "metadata": {},
   "outputs": [],
   "source": [
    "filename = r'E:/Python_Scripts/Paraview_Script/dataDD'\n",
    "f = open(filename)\n",
    "'''\n",
    "temp_mesh = np.fromfile(f,count=3,dtype='int32')\n",
    "N1,N2,N3 = temp_mesh\n",
    "data_num =1\n",
    "print ('No of grids in the desnity file')\n",
    "print (N1)\n",
    "print (N2)\n",
    "print (N3)\n",
    "'''\n",
    "N1 = 601\n",
    "N2 = 601\n",
    "N3 = 601\n",
    "data_num =1\n",
    "datatype = dtype=(np.float32)\n",
    "data = np.fromfile(f, dtype=datatype,count=N1*N2*N3*data_num)\n",
    "\n",
    "#N_1 = np.fromfile(f, dtype=datatype,count=N1*data_num)\n",
    "#print(\"the value of N1:\", N_1)\n",
    "#N_2 = np.fromfile(f, dtype=datatype,count=N2*data_num)\n",
    "#print(\"the value of N2:\", N_2)\n",
    "#N_3 = np.fromfile(f, dtype=datatype,count=N3*data_num)\n",
    "#print(\"the value of N2:\", N_3)\n",
    "f.close()\n",
    "\n",
    "#Mass = (1.0895e8)\n",
    "#print(Mass)\n",
    "#data = data * Mass\n",
    "\n",
    "#ppm = np.ones(56623104)\n",
    "data = data.reshape((N1,N2,N3), order='C')\n",
    "#a= np.ndarray.flatten(data[0])\n",
    "\n",
    "#mk = (27.0) * ((0.049) * (0.678**2)/0.023) * ((0.15/(0.38*(0.678**2))) * (1+10/10))**0.5\n",
    "#data = data * mk\n",
    "\n",
    "\n",
    "print(\"The shape of  data  is\", np.shape(data))\n",
    "\n",
    "print(\"The value of data of \",data)\n",
    "\n",
    "\n",
    "print(\"End\")\n",
    "    "
   ]
  },
  {
   "cell_type": "markdown",
   "metadata": {},
   "source": [
    "## Converting the Halo Density file to VTK file\n"
   ]
  },
  {
   "cell_type": "code",
   "execution_count": null,
   "metadata": {},
   "outputs": [],
   "source": [
    "import numpy as np\n",
    "from tvtk.api import tvtk, write_data\n",
    "\n",
    "#data = np.random.random((10,10,10))\n",
    "\n",
    "grid = tvtk.ImageData(spacing=(393.7, 393.7, 393.7), origin=(0.0, 0.0, 0.0), \n",
    "                      dimensions=data.shape)\n",
    "grid.point_data.scalars = data.ravel(order='F')\n",
    "grid.point_data.scalars.name = 'Halo density'\n",
    "\n",
    "# Writes legacy \".vtk\" format if filename ends with \"vtk\", otherwise\n",
    "# this will write data using the newer xml-based format.\n",
    "write_data(grid, r'C:\\Users\\Samanvith\\Documents\\Python Scripts\\Halo_Density\\HaloDensity_777.vtk')\n",
    "#print(data)"
   ]
  },
  {
   "cell_type": "code",
   "execution_count": null,
   "metadata": {},
   "outputs": [],
   "source": []
  },
  {
   "cell_type": "code",
   "execution_count": null,
   "metadata": {},
   "outputs": [],
   "source": [
    "Scientific goals include orbital studies of lunar topography, mineralogy, elemental abundance, the lunar exosphere, and signatures of hydroxyl and water ice.[56] The orbiter will map the lunar surface and help to prepare 3D maps of it. The onboard radar will also map the surface while studying the water ice in the south polar region and thickness of the lunar regolith on the surface"
   ]
  }
 ],
 "metadata": {
  "kernelspec": {
   "display_name": "Python 3",
   "language": "python",
   "name": "python3"
  },
  "language_info": {
   "codemirror_mode": {
    "name": "ipython",
    "version": 3
   },
   "file_extension": ".py",
   "mimetype": "text/x-python",
   "name": "python",
   "nbconvert_exporter": "python",
   "pygments_lexer": "ipython3",
   "version": "3.7.3"
  }
 },
 "nbformat": 4,
 "nbformat_minor": 4
}
