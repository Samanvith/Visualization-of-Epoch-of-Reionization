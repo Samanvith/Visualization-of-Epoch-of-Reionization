{
 "cells": [
  {
   "cell_type": "markdown",
   "metadata": {},
   "source": [
    "## Working with new files"
   ]
  },
  {
   "cell_type": "markdown",
   "metadata": {},
   "source": [
    "## FOR DT FILES"
   ]
  },
  {
   "cell_type": "code",
   "execution_count": null,
   "metadata": {},
   "outputs": [],
   "source": [
    "import numpy as np \n",
    "import csv\n",
    "import matplotlib.pyplot as plt\n",
    "import sys\n",
    "#np.set_printoptions(threshold=sys.maxsize)\n",
    "np.set_printoptions(threshold=np.inf)\n"
   ]
  },
  {
   "cell_type": "code",
   "execution_count": null,
   "metadata": {},
   "outputs": [],
   "source": [
    "filename = r'E:\\Python Scripts\\500Mpc_dT_files\\500_fidu_pv\\dT_50part_los0_7.221.cbin'\n",
    "f = open(filename)\n",
    "temp_mesh = np.fromfile(f,count=3,dtype='int32')\n",
    "N1,N2,N3 = temp_mesh\n",
    "data_num =1\n",
    "print ('No of grids in the desnity file')\n",
    "print (N1)\n",
    "print (N2)\n",
    "print (N3)\n",
    "\n",
    "datatype = dtype=(np.float32)\n",
    "data = np.fromfile(f, dtype=datatype,count=N1*N2*N3*data_num)\n",
    "\n",
    "#N_1 = np.fromfile(f, dtype=datatype,count=N1*data_num)\n",
    "#print(\"the value of N1:\", N_1)\n",
    "#N_2 = np.fromfile(f, dtype=datatype,count=N2*data_num)\n",
    "#print(\"the value of N2:\", N_2)\n",
    "#N_3 = np.fromfile(f, dtype=datatype,count=N3*data_num)\n",
    "#print(\"the value of N2:\", N_3)\n",
    "f.close()\n",
    "\n",
    "#Mass = (1.0895e8)\n",
    "#print(Mass)\n",
    "#data = data * Mass\n",
    "\n",
    "#ppm = np.ones(56623104)\n",
    "data = data.reshape((N1,N2,N3), order='C')\n",
    "#a= np.ndarray.flatten(data[0])\n",
    "\n",
    "#mk = (27.0) * ((0.049) * (0.678**2)/0.023) * ((0.15/(0.38*(0.678**2))) * (1+10/10))**0.5\n",
    "#data = data * mk\n",
    "\n",
    "\n",
    "print(\"The shape of  data  is\", np.shape(data))\n",
    "\n",
    "print(\"The value of data of \",data)\n",
    "\n",
    "\n",
    "print(\"End\")\n",
    "    #x = data[0]\n",
    "    #y = data[1]\n",
    "    #z = data[2]\n",
    "    #data[0]"
   ]
  },
  {
   "cell_type": "markdown",
   "metadata": {},
   "source": [
    "## Converstion of 3D gridded data into a VTK file ( to be read in ParaView)"
   ]
  },
  {
   "cell_type": "code",
   "execution_count": null,
   "metadata": {},
   "outputs": [],
   "source": [
    "import numpy as np\n",
    "from tvtk.api import tvtk, write_data\n",
    "\n",
    "#data = np.random.random((10,10,10))\n",
    "\n",
    "grid = tvtk.ImageData(spacing=(393.7, 393.7, 393.7), origin=(0.0, 0.0, 0.0), \n",
    "                      dimensions=data.shape)\n",
    "grid.point_data.scalars = data.ravel(order='F')\n",
    "grid.point_data.scalars.name = 'HI density'\n",
    "\n",
    "# Writes legacy \".vtk\" format if filename ends with \"vtk\", otherwise\n",
    "# this will write data using the newer xml-based format.\n",
    "write_data(grid, r'E:\\Python Scripts\\500Mpc_dT_files\\500_fidu_pv\\HI_VTK\\HI030.vtk')\n",
    "#print(data)"
   ]
  },
  {
   "cell_type": "markdown",
   "metadata": {},
   "source": [
    "## FOR DENISTY_C FILES\n"
   ]
  },
  {
   "cell_type": "code",
   "execution_count": null,
   "metadata": {},
   "outputs": [],
   "source": [
    "import numpy as np \n",
    "import csv\n",
    "import matplotlib.pyplot as plt\n",
    "import sys\n",
    "\n",
    "\n"
   ]
  },
  {
   "cell_type": "code",
   "execution_count": null,
   "metadata": {},
   "outputs": [],
   "source": [
    "filename = r'E:\\Python_Scripts\\density_C\\7.221_den.cbin'\n",
    "f = open(filename)\n",
    "temp_mesh = np.fromfile(f,count=3,dtype='int32')\n",
    "N1,N2,N3 = temp_mesh\n",
    "data_num =1\n",
    "print ('No of grids in the desnity file')\n",
    "print (N1)\n",
    "print (N2)\n",
    "print (N3)\n",
    "\n",
    "datatype = dtype=(np.float32)\n",
    "data = np.fromfile(f, dtype=datatype,count=N1*N2*N3*data_num)\n",
    "\n",
    "#N_1 = np.fromfile(f, dtype=datatype,count=N1*data_num)\n",
    "#print(\"the value of N1:\", N_1)\n",
    "#N_2 = np.fromfile(f, dtype=datatype,count=N2*data_num)\n",
    "#print(\"the value of N2:\", N_2)\n",
    "#N_3 = np.fromfile(f, dtype=datatype,count=N3*data_num)\n",
    "#print(\"the value of N2:\", N_3)\n",
    "f.close()\n",
    "\n",
    "#Mass = (1.0895e8)\n",
    "#print(Mass)\n",
    "#data = data * Mass\n",
    "\n",
    "#ppm = np.ones(56623104)\n",
    "data = data.reshape((N1,N2,N3), order='C')\n",
    "#a= np.ndarray.flatten(data[0])\n",
    "\n",
    "#mk = (27.0) * ((0.049) * (0.678**2)/0.023) * ((0.15/(0.38*(0.678**2))) * (1+10/10))**0.5\n",
    "#data = data * mk\n",
    "mean = np.mean(data)\n",
    "\n",
    "data = data/mean\n",
    "print(\"The mean of the data is \", mean)\n",
    "print(\"The shape of  data  is\", np.shape(data))\n",
    "\n",
    "print(\"The value of data is \",data)\n",
    "\n",
    "\n",
    "print(\"End\")\n",
    "    #x = data[0]\n",
    "    #y = data[1]\n",
    "    #z = data[2]\n",
    "    #data[0]"
   ]
  },
  {
   "cell_type": "markdown",
   "metadata": {},
   "source": [
    "## Converstion of 3D gridded data into a VTK file ( to be read in ParaView)"
   ]
  },
  {
   "cell_type": "code",
   "execution_count": null,
   "metadata": {},
   "outputs": [],
   "source": [
    "import numpy as np\n",
    "from tvtk.api import tvtk, write_data\n",
    "\n",
    "#data = np.random.random((10,10,10))\n",
    "\n",
    "grid = tvtk.ImageData(spacing=(393.7, 393.7, 393.7), origin=(0.0, 0.0, 0.0), \n",
    "                      dimensions=data.shape)\n",
    "grid.point_data.scalars = data.ravel(order='F')\n",
    "grid.point_data.scalars.name = 'HI density'\n",
    "\n",
    "# Writes legacy \".vtk\" format if filename ends with \"vtk\", otherwise\n",
    "# this will write data using the newer xml-based format.\n",
    "write_data(grid, r'E:\\Python_Scripts\\density_C\\Density_VTK\\den030.vtk')\n",
    "#print(data)"
   ]
  },
  {
   "cell_type": "markdown",
   "metadata": {},
   "source": [
    "## Halo Desnity Files"
   ]
  },
  {
   "cell_type": "code",
   "execution_count": null,
   "metadata": {},
   "outputs": [],
   "source": [
    "import numpy as np \n",
    "import csv\n",
    "import matplotlib.pyplot as plt\n",
    "import sys\n",
    "import struct\n",
    "#np.set_printoptions(threshold=sys.maxsize)\n",
    "\n"
   ]
  },
  {
   "cell_type": "code",
   "execution_count": null,
   "metadata": {},
   "outputs": [],
   "source": [
    "filename = r\"E:\\Python_Scripts\\New_data\\500Mpc_hinv_Halo_density\\16.095-coarsest_sources.dat\"\n",
    "a =np.loadtxt(filename,skiprows=1,usecols=(0,1,2,3,))\n",
    "\n",
    "\n",
    "data1 = a[:,0]\n",
    "print(\"The value of X coordinate\",data1)\n",
    "\n",
    "data2 = a[:,1]\n",
    "print(\"The value of Y coordinate\",data2)\n",
    "\n",
    "data3 = a[:,2]\n",
    "print(\"The value of Y coordinate\",data3)\n",
    "\n",
    "data4 = a[:,3]\n",
    "print(\"The value of mass coordinate\",data4)\n",
    "\n",
    "\n"
   ]
  },
  {
   "cell_type": "code",
   "execution_count": null,
   "metadata": {},
   "outputs": [],
   "source": [
    "from itertools import zip_longest\n",
    "d = [data1, data2, data3, data4]\n",
    "export_data = zip_longest(*d, fillvalue = '')\n",
    "\n",
    "with open(r'E:\\Python_Scripts\\500Mpc_hinv_Halo_density\\halo_density\\CoordinateMass_16095.csv', 'w', encoding=\"ISO-8859-1\", newline='') as myfile:\n",
    "      wr = csv.writer(myfile)\n",
    "      wr.writerow((\"X\", \"Y\",\"Z\",\"Mass\"))\n",
    "      wr.writerows(export_data)\n",
    "myfile.close()"
   ]
  },
  {
   "cell_type": "code",
   "execution_count": null,
   "metadata": {},
   "outputs": [],
   "source": [
    "filename = r\"E:\\Python_Scripts\\New_data\\500Mpc_hinv_Halo_density\\16.095-coarsest_sources.dat\"\n",
    "a =np.loadtxt(filename,skiprows=1,usecols=(0,1,2,3,))"
   ]
  },
  {
   "cell_type": "code",
   "execution_count": null,
   "metadata": {},
   "outputs": [],
   "source": [
    "data = np.zeros(shape=(600,600,600))"
   ]
  },
  {
   "cell_type": "code",
   "execution_count": null,
   "metadata": {},
   "outputs": [],
   "source": [
    "k = int(a[0][0])\n",
    "k"
   ]
  },
  {
   "cell_type": "code",
   "execution_count": null,
   "metadata": {},
   "outputs": [],
   "source": [
    "np.max(a[:,3])"
   ]
  },
  {
   "cell_type": "code",
   "execution_count": null,
   "metadata": {},
   "outputs": [],
   "source": [
    "for i in range(len(a)):\n",
    "    \n",
    "    k = int(a[i][0]-1)\n",
    "    l = int(a[i][1]-1)\n",
    "    m = int(a[i][2]-1)\n",
    "    n =  a[i,3]\n",
    "    data[k,l,m] = n"
   ]
  },
  {
   "cell_type": "code",
   "execution_count": null,
   "metadata": {},
   "outputs": [],
   "source": [
    "import struct"
   ]
  },
  {
   "cell_type": "markdown",
   "metadata": {},
   "source": [
    "## THE CODE\n"
   ]
  },
  {
   "cell_type": "code",
   "execution_count": null,
   "metadata": {},
   "outputs": [],
   "source": [
    "filename = r\"E:\\Python_Scripts\\New_data\\500Mpc_hinv_Halo_density\\7.221-coarsest_sources.dat\"\n",
    "a =np.loadtxt(filename,skiprows=1,usecols=(0,1,2,3,))\n",
    "\n",
    "data = np.zeros(shape=(600,600,600))\n",
    "\n",
    "for i in range(len(a)):\n",
    "    \n",
    "    k = int(a[i][0]-1)\n",
    "    l = int(a[i][1]-1)\n",
    "    m = int(a[i][2]-1)\n",
    "    n =  a[i,3]\n",
    "    data[k,l,m] = n\n",
    "\n",
    "f = open(r'E:\\Python_Scripts\\New_data\\500Mpc_hinv_Halo_density\\halo_density\\Den_7221','wb')\n",
    "\n",
    "f.write(struct.pack('<i',600))\n",
    "f.write(struct.pack('<i',600))\n",
    "f.write(struct.pack('<i',600))\n",
    "for i in range(600):\n",
    "    for j in range(600):\n",
    "        for k in range(600):\n",
    "            f.write(struct.pack('<f',data[i,j,k]))\n",
    "f.close()\n",
    "print(\"******END****** Den_7221\")"
   ]
  },
  {
   "cell_type": "code",
   "execution_count": null,
   "metadata": {},
   "outputs": [],
   "source": [
    "filename = r\"E:\\Python_Scripts\\New_data\\500Mpc_hinv_Halo_density\\halo_density\\Den_7221\"\n",
    "f = open(filename)\n",
    "temp_mesh = np.fromfile(f,count=3,dtype='int32')\n",
    "N1,N2,N3 = temp_mesh\n",
    "data_num =1\n",
    "print ('No of grids in the desnity file')\n",
    "print (N1)\n",
    "print (N2)\n",
    "print (N3)\n",
    "\n",
    "datatype = dtype=(np.float32)\n",
    "data = np.fromfile(f, dtype=datatype,count=N1*N2*N3*data_num)\n",
    "\n",
    "\n",
    "f.close()\n",
    "\n",
    "\n",
    "\n",
    "#ppm = np.ones(56623104)\n",
    "data = data.reshape((N1,N2,N3), order='C')\n",
    "\n",
    "\n",
    "\n",
    "#print(\"The shape of  data  is\", np.shape(data))\n",
    "\n",
    "#print(\"The value of data of \",data)\n",
    "\n",
    "\n",
    "print(\"End Den_7221\")\n",
    "   "
   ]
  },
  {
   "cell_type": "code",
   "execution_count": null,
   "metadata": {},
   "outputs": [],
   "source": [
    "import numpy as np\n",
    "from tvtk.api import tvtk, write_data\n",
    "\n",
    "#data = np.random.random((10,10,10))\n",
    "\n",
    "grid = tvtk.ImageData(spacing=(393.7, 393.7, 393.7), origin=(0.0, 0.0, 0.0), \n",
    "                      dimensions=data.shape)\n",
    "grid.point_data.scalars = data.ravel(order='F')\n",
    "grid.point_data.scalars.name = 'Density'\n",
    "\n",
    "# Writes legacy \".vtk\" format if filename ends with \"vtk\", otherwise\n",
    "# this will write data using the newer xml-based format.\n",
    "write_data(grid, r'E:\\Python_Scripts\\New_data\\500Mpc_hinv_Halo_density\\Halo_Density_VTK\\HaloDen030.vtk')\n",
    "print(\"End Den_7221\")"
   ]
  },
  {
   "cell_type": "code",
   "execution_count": null,
   "metadata": {},
   "outputs": [],
   "source": []
  },
  {
   "cell_type": "code",
   "execution_count": null,
   "metadata": {},
   "outputs": [],
   "source": []
  },
  {
   "cell_type": "code",
   "execution_count": null,
   "metadata": {},
   "outputs": [],
   "source": []
  },
  {
   "cell_type": "markdown",
   "metadata": {},
   "source": [
    "## TRY"
   ]
  },
  {
   "cell_type": "code",
   "execution_count": null,
   "metadata": {},
   "outputs": [],
   "source": [
    "filename = r\"E:\\Python_Scripts\\New_data\\500Mpc_hinv_Halo_density\\8.064-coarsest_sources.dat\"\n",
    "a =np.loadtxt(filename,skiprows=1,usecols=(0,1,2,3,))\n",
    "\n",
    "data = np.zeros(shape=(600,600,600))\n",
    "\n",
    "for i in range(len(a)):\n",
    "    \n",
    "    k = int(a[i][0]-1)\n",
    "    l = int(a[i][1]-1)\n",
    "    m = int(a[i][2]-1)\n",
    "    n =  a[i,3]\n",
    "    data[k,l,m] = n\n",
    "\n",
    "f = open(r'Den_8064','wb')\n",
    "\n",
    "f.write(struct.pack('<i',600))\n",
    "f.write(struct.pack('<i',600))\n",
    "f.write(struct.pack('<i',600))\n",
    "for i in range(600):\n",
    "    for j in range(600):\n",
    "        for k in range(600):\n",
    "            f.write(struct.pack('<f',data[i,j,k]))\n",
    "f.close()\n",
    "print(\"******END****** Den_8064\")"
   ]
  },
  {
   "cell_type": "code",
   "execution_count": null,
   "metadata": {},
   "outputs": [],
   "source": [
    "import numpy as np\n",
    "from tvtk.api import tvtk, write_data\n",
    "\n",
    "#data = np.random.random((10,10,10))\n",
    "\n",
    "grid = tvtk.ImageData(spacing=(393.7, 393.7, 393.7), origin=(0.0, 0.0, 0.0), \n",
    "                      dimensions=data.shape)\n",
    "grid.point_data.scalars = data.ravel(order='F')\n",
    "grid.point_data.scalars.name = 'Density'\n",
    "\n",
    "# Writes legacy \".vtk\" format if filename ends with \"vtk\", otherwise\n",
    "# this will write data using the newer xml-based format.\n",
    "write_data(grid, r'E:\\HaloDen017.vtk')\n",
    "print(\"End Den_8064\")"
   ]
  },
  {
   "cell_type": "code",
   "execution_count": null,
   "metadata": {},
   "outputs": [],
   "source": []
  }
 ],
 "metadata": {
  "kernelspec": {
   "display_name": "Python 3",
   "language": "python",
   "name": "python3"
  },
  "language_info": {
   "codemirror_mode": {
    "name": "ipython",
    "version": 3
   },
   "file_extension": ".py",
   "mimetype": "text/x-python",
   "name": "python",
   "nbconvert_exporter": "python",
   "pygments_lexer": "ipython3",
   "version": "3.7.3"
  }
 },
 "nbformat": 4,
 "nbformat_minor": 4
}
